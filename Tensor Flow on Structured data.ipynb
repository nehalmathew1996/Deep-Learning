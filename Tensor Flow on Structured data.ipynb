{
 "cells": [
  {
   "cell_type": "markdown",
   "id": "8b55d1c0-af20-4af1-aac5-42ecde433252",
   "metadata": {},
   "source": [
    "## Table of Content\n",
    "\n",
    "1. **[Import Libraries](#lib)**\n",
    "2. **[Read Data](#read)**\n",
    "3. **[Splitting target and independent variables](#split1)**\n",
    "4. **[Scaling](#Scaling)**\n",
    "5. **[Train test Split](#split)**\n",
    "6. **[Keras Implementation on Structured Data](#keras)**"
   ]
  },
  {
   "cell_type": "code",
   "execution_count": null,
   "id": "32616541-fde1-426e-b41a-194c66cf97e4",
   "metadata": {},
   "outputs": [],
   "source": []
  },
  {
   "cell_type": "markdown",
   "id": "e7f5045c-cc17-4d51-a9ae-fb6bb85dfc1f",
   "metadata": {},
   "source": [
    "<a id=\"lib\"></a>\n",
    "## 1. Import Libraries"
   ]
  },
  {
   "cell_type": "code",
   "execution_count": 22,
   "id": "b295920e-6c35-4109-b7ba-9ccab7398ffc",
   "metadata": {},
   "outputs": [],
   "source": [
    "import pandas as pd\n",
    "import numpy as np \n",
    "import matplotlib.pyplot as plt\n",
    "import math\n",
    "\n",
    "from sklearn.model_selection import train_test_split\n",
    "from sklearn.preprocessing import MinMaxScaler\n",
    "\n",
    "import tensorflow as tf\n",
    "from tensorflow.keras.layers import Dense\n",
    "from tensorflow import keras"
   ]
  },
  {
   "cell_type": "markdown",
   "id": "6cae0fd0-87fe-45c3-90af-8c43512c0f0a",
   "metadata": {},
   "source": [
    "<a id=\"read\"></a>\n",
    "## 2. Read Data"
   ]
  },
  {
   "cell_type": "code",
   "execution_count": 2,
   "id": "bae188ea-bc74-4d82-af58-e5f027f0fae3",
   "metadata": {},
   "outputs": [
    {
     "data": {
      "text/html": [
       "<div>\n",
       "<style scoped>\n",
       "    .dataframe tbody tr th:only-of-type {\n",
       "        vertical-align: middle;\n",
       "    }\n",
       "\n",
       "    .dataframe tbody tr th {\n",
       "        vertical-align: top;\n",
       "    }\n",
       "\n",
       "    .dataframe thead th {\n",
       "        text-align: right;\n",
       "    }\n",
       "</style>\n",
       "<table border=\"1\" class=\"dataframe\">\n",
       "  <thead>\n",
       "    <tr style=\"text-align: right;\">\n",
       "      <th></th>\n",
       "      <th>age</th>\n",
       "      <th>affordibility</th>\n",
       "      <th>bought_insurance</th>\n",
       "    </tr>\n",
       "  </thead>\n",
       "  <tbody>\n",
       "    <tr>\n",
       "      <th>0</th>\n",
       "      <td>22</td>\n",
       "      <td>1</td>\n",
       "      <td>0</td>\n",
       "    </tr>\n",
       "    <tr>\n",
       "      <th>1</th>\n",
       "      <td>25</td>\n",
       "      <td>0</td>\n",
       "      <td>0</td>\n",
       "    </tr>\n",
       "    <tr>\n",
       "      <th>2</th>\n",
       "      <td>47</td>\n",
       "      <td>1</td>\n",
       "      <td>1</td>\n",
       "    </tr>\n",
       "    <tr>\n",
       "      <th>3</th>\n",
       "      <td>52</td>\n",
       "      <td>0</td>\n",
       "      <td>0</td>\n",
       "    </tr>\n",
       "    <tr>\n",
       "      <th>4</th>\n",
       "      <td>46</td>\n",
       "      <td>1</td>\n",
       "      <td>1</td>\n",
       "    </tr>\n",
       "  </tbody>\n",
       "</table>\n",
       "</div>"
      ],
      "text/plain": [
       "   age  affordibility  bought_insurance\n",
       "0   22              1                 0\n",
       "1   25              0                 0\n",
       "2   47              1                 1\n",
       "3   52              0                 0\n",
       "4   46              1                 1"
      ]
     },
     "execution_count": 2,
     "metadata": {},
     "output_type": "execute_result"
    }
   ],
   "source": [
    "df = pd.read_csv('insurance_affordability.csv')\n",
    "df.head()"
   ]
  },
  {
   "cell_type": "code",
   "execution_count": 3,
   "id": "06d4ad67-8a4c-4818-8236-b615cef4cd10",
   "metadata": {},
   "outputs": [
    {
     "data": {
      "text/plain": [
       "age                 0\n",
       "affordibility       0\n",
       "bought_insurance    0\n",
       "dtype: int64"
      ]
     },
     "execution_count": 3,
     "metadata": {},
     "output_type": "execute_result"
    }
   ],
   "source": [
    "df.isnull().sum()"
   ]
  },
  {
   "cell_type": "code",
   "execution_count": null,
   "id": "9395823c-2621-42be-a378-47416e1c973a",
   "metadata": {},
   "outputs": [],
   "source": []
  },
  {
   "cell_type": "markdown",
   "id": "b8fdd81d-022f-4741-98d7-bd6b53b535a7",
   "metadata": {},
   "source": [
    "<a id=\"split1\"></a>\n",
    "## 3. Splitting target and independent variables"
   ]
  },
  {
   "cell_type": "code",
   "execution_count": 4,
   "id": "953d8379-810a-4491-bc0e-11e94b401a1d",
   "metadata": {},
   "outputs": [],
   "source": [
    "X=df.drop('bought_insurance',axis=1)\n",
    "y=df['bought_insurance']"
   ]
  },
  {
   "cell_type": "code",
   "execution_count": null,
   "id": "d9783852-6e22-45fe-912c-f26be1f170f4",
   "metadata": {},
   "outputs": [],
   "source": []
  },
  {
   "cell_type": "markdown",
   "id": "2234427b-9680-4a8f-b800-2a0c8eb1094b",
   "metadata": {},
   "source": [
    "<a id=\"Scaling\"></a>\n",
    "## 4. Scaling"
   ]
  },
  {
   "cell_type": "code",
   "execution_count": 5,
   "id": "73563391-0b94-49b9-a0b5-1c75c0ef41dd",
   "metadata": {},
   "outputs": [
    {
     "data": {
      "text/html": [
       "<div>\n",
       "<style scoped>\n",
       "    .dataframe tbody tr th:only-of-type {\n",
       "        vertical-align: middle;\n",
       "    }\n",
       "\n",
       "    .dataframe tbody tr th {\n",
       "        vertical-align: top;\n",
       "    }\n",
       "\n",
       "    .dataframe thead th {\n",
       "        text-align: right;\n",
       "    }\n",
       "</style>\n",
       "<table border=\"1\" class=\"dataframe\">\n",
       "  <thead>\n",
       "    <tr style=\"text-align: right;\">\n",
       "      <th></th>\n",
       "      <th>age</th>\n",
       "      <th>affordibility</th>\n",
       "    </tr>\n",
       "  </thead>\n",
       "  <tbody>\n",
       "    <tr>\n",
       "      <th>0</th>\n",
       "      <td>0.090909</td>\n",
       "      <td>1.0</td>\n",
       "    </tr>\n",
       "    <tr>\n",
       "      <th>1</th>\n",
       "      <td>0.159091</td>\n",
       "      <td>0.0</td>\n",
       "    </tr>\n",
       "    <tr>\n",
       "      <th>2</th>\n",
       "      <td>0.659091</td>\n",
       "      <td>1.0</td>\n",
       "    </tr>\n",
       "    <tr>\n",
       "      <th>3</th>\n",
       "      <td>0.772727</td>\n",
       "      <td>0.0</td>\n",
       "    </tr>\n",
       "    <tr>\n",
       "      <th>4</th>\n",
       "      <td>0.636364</td>\n",
       "      <td>1.0</td>\n",
       "    </tr>\n",
       "  </tbody>\n",
       "</table>\n",
       "</div>"
      ],
      "text/plain": [
       "        age  affordibility\n",
       "0  0.090909            1.0\n",
       "1  0.159091            0.0\n",
       "2  0.659091            1.0\n",
       "3  0.772727            0.0\n",
       "4  0.636364            1.0"
      ]
     },
     "execution_count": 5,
     "metadata": {},
     "output_type": "execute_result"
    }
   ],
   "source": [
    "mm=MinMaxScaler()\n",
    "X=pd.DataFrame(mm.fit_transform(X),columns=X.columns)\n",
    "X.head()"
   ]
  },
  {
   "cell_type": "code",
   "execution_count": null,
   "id": "29870cf7-db53-40cb-b5e4-673c3ddcb635",
   "metadata": {},
   "outputs": [],
   "source": []
  },
  {
   "cell_type": "markdown",
   "id": "f22027f2-48e4-4478-bc9d-15dbcf340410",
   "metadata": {},
   "source": [
    "<a id=\"split\"></a>\n",
    "## 5. Train test Split"
   ]
  },
  {
   "cell_type": "code",
   "execution_count": 6,
   "id": "4623cf33-360f-47c4-901e-661b16d9c554",
   "metadata": {},
   "outputs": [],
   "source": [
    "X_train, X_test, y_train, y_test = train_test_split(X, y, test_size=0.3, random_state=42)"
   ]
  },
  {
   "cell_type": "code",
   "execution_count": null,
   "id": "9e72cc14-8d1f-499b-beba-54b39423f18f",
   "metadata": {},
   "outputs": [],
   "source": []
  },
  {
   "cell_type": "markdown",
   "id": "1586ae92-1a5e-437e-811d-7d52a65b0951",
   "metadata": {},
   "source": [
    "<a id=\"keras\"></a>\n",
    "## 6. Keras Implementation on Structured Data"
   ]
  },
  {
   "cell_type": "code",
   "execution_count": 17,
   "id": "8e5c9ebf-312a-4b0c-8e9e-b426fc3ff3b0",
   "metadata": {},
   "outputs": [
    {
     "name": "stdout",
     "output_type": "stream",
     "text": [
      "1/1 [==============================] - 0s 65ms/step - loss: 0.4583 - accuracy: 0.8421\n",
      "Train : [0.4583021402359009, 0.8421052694320679]\n"
     ]
    }
   ],
   "source": [
    "model = keras.Sequential([\n",
    "    Dense(units=1, activation='sigmoid', input_shape=(2,))\n",
    "])\n",
    "\n",
    "adam=keras.optimizers.Adam(learning_rate=10)\n",
    "\n",
    "model.compile(optimizer=adam,\n",
    "              loss='binary_crossentropy',\n",
    "              metrics=['accuracy'])\n",
    "\n",
    "model.fit(X_train, y_train, epochs=250,verbose=0)\n",
    "\n",
    "print('Train :',model.evaluate(X_train,y_train))\n"
   ]
  },
  {
   "cell_type": "code",
   "execution_count": null,
   "id": "ac155638-b711-45cb-badb-64d195e05656",
   "metadata": {},
   "outputs": [],
   "source": []
  },
  {
   "cell_type": "code",
   "execution_count": 20,
   "id": "467da938-535c-46fb-8b61-e6a35bd7e841",
   "metadata": {},
   "outputs": [
    {
     "data": {
      "text/plain": [
       "(array([[4.7838116],\n",
       "        [1.6150012]], dtype=float32),\n",
       " array([-3.8737395], dtype=float32))"
      ]
     },
     "execution_count": 20,
     "metadata": {},
     "output_type": "execute_result"
    }
   ],
   "source": [
    "# Weights used to obtain the above results\n",
    "\n",
    "coef, intercept = model.get_weights()\n",
    "coef, intercept"
   ]
  },
  {
   "cell_type": "code",
   "execution_count": null,
   "id": "52ad25b8-4939-46c4-ba87-cdf1c0ab7d9f",
   "metadata": {},
   "outputs": [],
   "source": []
  },
  {
   "cell_type": "code",
   "execution_count": 28,
   "id": "fc18a54b-7089-4451-9106-8b608b8ecbfb",
   "metadata": {},
   "outputs": [
    {
     "data": {
      "text/plain": [
       "1.0"
      ]
     },
     "execution_count": 28,
     "metadata": {},
     "output_type": "execute_result"
    }
   ],
   "source": [
    "# How a new input is predicted from the above model\n",
    "\n",
    "\n",
    "def sigmoid(x):\n",
    "        return 1 / (1 + math.exp(-x))\n",
    "\n",
    "\n",
    "def predict(age, affordibility):\n",
    "    weighted_sum = coef[0]*age + coef[1]*affordibility + intercept\n",
    "    return sigmoid(weighted_sum)\n",
    "\n",
    "\n",
    "# If the output is 1 it means the person is likely to purchase an insurance and if 0 he is not likely to purchase an insurance.\n",
    "np.round(predict(.52, 1))"
   ]
  },
  {
   "cell_type": "code",
   "execution_count": null,
   "id": "49a1e632-6bb3-494d-bd1d-29da2fa89104",
   "metadata": {},
   "outputs": [],
   "source": []
  }
 ],
 "metadata": {
  "kernelspec": {
   "display_name": "Python 3",
   "language": "python",
   "name": "python3"
  },
  "language_info": {
   "codemirror_mode": {
    "name": "ipython",
    "version": 3
   },
   "file_extension": ".py",
   "mimetype": "text/x-python",
   "name": "python",
   "nbconvert_exporter": "python",
   "pygments_lexer": "ipython3",
   "version": "3.6.13"
  }
 },
 "nbformat": 4,
 "nbformat_minor": 5
}
