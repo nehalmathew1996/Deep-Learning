{
 "cells": [
  {
   "cell_type": "code",
   "execution_count": 2,
   "id": "14c20417",
   "metadata": {},
   "outputs": [],
   "source": [
    "import tensorflow as tf\n",
    "import numpy as np \n",
    "import matplotlib.pyplot as plt\n"
   ]
  },
  {
   "cell_type": "code",
   "execution_count": 3,
   "id": "1a50d893",
   "metadata": {},
   "outputs": [],
   "source": [
    "x=np.load('C:/Users/nehal/Music/11.Deep Learning/Class Work/X.npy')\n",
    "y=np.load('C:/Users/nehal/Music/11.Deep Learning/Class Work/Y.npy')"
   ]
  },
  {
   "cell_type": "code",
   "execution_count": 4,
   "id": "8f1a9e90",
   "metadata": {},
   "outputs": [
    {
     "data": {
      "text/plain": [
       "((2062, 64, 64), (2062, 10))"
      ]
     },
     "execution_count": 4,
     "metadata": {},
     "output_type": "execute_result"
    }
   ],
   "source": [
    "x.shape,y.shape"
   ]
  },
  {
   "cell_type": "code",
   "execution_count": 5,
   "id": "650e54e7",
   "metadata": {},
   "outputs": [
    {
     "data": {
      "text/plain": [
       "<matplotlib.image.AxesImage at 0x204875cad08>"
      ]
     },
     "execution_count": 5,
     "metadata": {},
     "output_type": "execute_result"
    },
    {
     "data": {
      "image/png": "[encoded data removed]",
      "text/plain": [
       "<Figure size 432x288 with 1 Axes>"
      ]
     },
     "metadata": {
      "needs_background": "light"
     },
     "output_type": "display_data"
    }
   ],
   "source": [
    "plt.imshow(x[1])"
   ]
  },
  {
   "cell_type": "code",
   "execution_count": null,
   "id": "c16e3ce8",
   "metadata": {},
   "outputs": [],
   "source": []
  },
  {
   "cell_type": "code",
   "execution_count": 6,
   "id": "837d4f2c",
   "metadata": {},
   "outputs": [],
   "source": [
    "from sklearn.model_selection import train_test_split\n",
    "\n",
    "x_train,x_test,y_train,y_test=train_test_split(x,y,random_state=10)"
   ]
  },
  {
   "cell_type": "code",
   "execution_count": 7,
   "id": "aac85a47",
   "metadata": {},
   "outputs": [
    {
     "data": {
      "text/plain": [
       "((1546, 64, 64), (516, 64, 64))"
      ]
     },
     "execution_count": 7,
     "metadata": {},
     "output_type": "execute_result"
    }
   ],
   "source": [
    "x_train.shape,x_test.shape"
   ]
  },
  {
   "cell_type": "code",
   "execution_count": 8,
   "id": "ceceea5b",
   "metadata": {},
   "outputs": [],
   "source": [
    "X_train=x_train.reshape(1546,64*64)\n",
    "X_test=x_test.reshape(516,64*64)"
   ]
  },
  {
   "cell_type": "code",
   "execution_count": null,
   "id": "dc3a7890",
   "metadata": {},
   "outputs": [],
   "source": []
  },
  {
   "cell_type": "code",
   "execution_count": 9,
   "id": "309c006b",
   "metadata": {},
   "outputs": [],
   "source": [
    "X_train=X_train/255.\n",
    "X_test=X_test/255."
   ]
  },
  {
   "cell_type": "code",
   "execution_count": null,
   "id": "d4aa867d",
   "metadata": {},
   "outputs": [],
   "source": []
  },
  {
   "cell_type": "code",
   "execution_count": 10,
   "id": "dddb024f",
   "metadata": {},
   "outputs": [],
   "source": [
    "from tensorflow.keras.models import Sequential\n",
    "\n",
    "from tensorflow.keras.layers import Dense "
   ]
  },
  {
   "cell_type": "code",
   "execution_count": 19,
   "id": "9ed1225d",
   "metadata": {},
   "outputs": [],
   "source": [
    "model=Sequential()\n",
    "\n",
    "model.add(Dense(512,activation='relu',input_dim=4096))\n",
    "model.add(Dense(128,activation='relu'))\n",
    "model.add(Dense(10,activation='softmax'))\n",
    "\n",
    "model.compile(metrics=['accuracy'],optimizer='adam',loss='categorical_crossentropy')"
   ]
  },
  {
   "cell_type": "code",
   "execution_count": 25,
   "id": "e8f8a737",
   "metadata": {},
   "outputs": [
    {
     "name": "stdout",
     "output_type": "stream",
     "text": [
      "Epoch 1/10\n",
      "25/25 [==============================] - 0s 18ms/step - loss: 1.1472 - accuracy: 0.6035 - val_loss: 1.2066 - val_accuracy: 0.5640\n",
      "Epoch 2/10\n",
      "25/25 [==============================] - 0s 14ms/step - loss: 1.1464 - accuracy: 0.6003 - val_loss: 1.1700 - val_accuracy: 0.5950\n",
      "Epoch 3/10\n",
      "25/25 [==============================] - 0s 16ms/step - loss: 1.1472 - accuracy: 0.5938 - val_loss: 1.1674 - val_accuracy: 0.5891\n",
      "Epoch 4/10\n",
      "25/25 [==============================] - 0s 15ms/step - loss: 1.1285 - accuracy: 0.6106 - val_loss: 1.1633 - val_accuracy: 0.5736\n",
      "Epoch 5/10\n",
      "25/25 [==============================] - 0s 14ms/step - loss: 1.1346 - accuracy: 0.6003 - val_loss: 1.1420 - val_accuracy: 0.5969\n",
      "Epoch 6/10\n",
      "25/25 [==============================] - 0s 15ms/step - loss: 1.1007 - accuracy: 0.6274 - val_loss: 1.1420 - val_accuracy: 0.5872\n",
      "Epoch 7/10\n",
      "25/25 [==============================] - 0s 15ms/step - loss: 1.1054 - accuracy: 0.6138 - val_loss: 1.2438 - val_accuracy: 0.5039\n",
      "Epoch 8/10\n",
      "25/25 [==============================] - 0s 18ms/step - loss: 1.1605 - accuracy: 0.5944 - val_loss: 1.1805 - val_accuracy: 0.5872\n",
      "Epoch 9/10\n",
      "25/25 [==============================] - 0s 14ms/step - loss: 1.1267 - accuracy: 0.5996 - val_loss: 1.1640 - val_accuracy: 0.5291\n",
      "Epoch 10/10\n",
      "25/25 [==============================] - 0s 17ms/step - loss: 1.0911 - accuracy: 0.6223 - val_loss: 1.1285 - val_accuracy: 0.6124\n"
     ]
    },
    {
     "data": {
      "text/plain": [
       "<keras.callbacks.History at 0x20499a40548>"
      ]
     },
     "execution_count": 25,
     "metadata": {},
     "output_type": "execute_result"
    }
   ],
   "source": [
    "model.fit(X_train,y_train,batch_size=64,epochs=10,validation_data=(X_test,y_test))"
   ]
  },
  {
   "cell_type": "code",
   "execution_count": null,
   "id": "4a91f5d8",
   "metadata": {},
   "outputs": [],
   "source": []
  },
  {
   "cell_type": "code",
   "execution_count": 44,
   "id": "0e6d6807",
   "metadata": {
    "scrolled": true
   },
   "outputs": [
    {
     "data": {
      "text/plain": [
       "array([[0., 0., 0., 0., 0., 0., 0., 1., 0., 0.]], dtype=float32)"
      ]
     },
     "execution_count": 44,
     "metadata": {},
     "output_type": "execute_result"
    }
   ],
   "source": [
    "model.predict(X_train[6].reshape(1,-1)).round()"
   ]
  },
  {
   "cell_type": "code",
   "execution_count": 42,
   "id": "cced39ee",
   "metadata": {},
   "outputs": [
    {
     "data": {
      "text/plain": [
       "array([[0., 0., 0., 0., 0., 0., 0., 0., 0., 0.]], dtype=float32)"
      ]
     },
     "execution_count": 42,
     "metadata": {},
     "output_type": "execute_result"
    }
   ],
   "source": [
    "model.predict(X_test[6].reshape(1,-1)).round()"
   ]
  },
  {
   "cell_type": "code",
   "execution_count": null,
   "id": "818cb4f0",
   "metadata": {},
   "outputs": [],
   "source": []
  },
  {
   "cell_type": "code",
   "execution_count": null,
   "id": "d68f3f76",
   "metadata": {},
   "outputs": [],
   "source": []
  },
  {
   "cell_type": "code",
   "execution_count": null,
   "id": "24c3acf9",
   "metadata": {},
   "outputs": [],
   "source": []
  }
 ],
 "metadata": {
  "kernelspec": {
   "display_name": "Python 3",
   "language": "python",
   "name": "python3"
  },
  "language_info": {
   "codemirror_mode": {
    "name": "ipython",
    "version": 3
   },
   "file_extension": ".py",
   "mimetype": "text/x-python",
   "name": "python",
   "nbconvert_exporter": "python",
   "pygments_lexer": "ipython3",
   "version": "3.7.10"
  }
 },
 "nbformat": 4,
 "nbformat_minor": 5
}
