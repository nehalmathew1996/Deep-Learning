{
 "cells": [
  {
   "cell_type": "code",
   "execution_count": 13,
   "id": "8109cc67",
   "metadata": {},
   "outputs": [],
   "source": [
    "import pandas as pd\n",
    "import numpy as np\n",
    " \n",
    "import matplotlib.pyplot as plt\n",
    "import tensorflow as tf\n",
    "\n",
    "import seaborn as sns"
   ]
  },
  {
   "cell_type": "code",
   "execution_count": null,
   "id": "0c74360b",
   "metadata": {},
   "outputs": [],
   "source": []
  },
  {
   "cell_type": "code",
   "execution_count": 2,
   "id": "cb3ef0fc",
   "metadata": {},
   "outputs": [],
   "source": [
    "from tensorflow.keras.datasets import mnist\n",
    "(x_train,y_train),(x_test,y_test)=mnist.load_data()\n"
   ]
  },
  {
   "cell_type": "code",
   "execution_count": 4,
   "id": "64a30512",
   "metadata": {},
   "outputs": [
    {
     "data": {
      "text/plain": [
       "(60000, 28, 28)"
      ]
     },
     "execution_count": 4,
     "metadata": {},
     "output_type": "execute_result"
    }
   ],
   "source": [
    "x_train.shape"
   ]
  },
  {
   "cell_type": "code",
   "execution_count": 7,
   "id": "5c40cf81",
   "metadata": {},
   "outputs": [
    {
     "data": {
      "text/plain": [
       "(10000, 28, 28)"
      ]
     },
     "execution_count": 7,
     "metadata": {},
     "output_type": "execute_result"
    }
   ],
   "source": [
    "x_test.shape"
   ]
  },
  {
   "cell_type": "code",
   "execution_count": 8,
   "id": "863c0f8c",
   "metadata": {},
   "outputs": [],
   "source": [
    "X_train=x_train.reshape(60000,28*28)\n",
    "X_test=x_test.reshape(10000,28*28)"
   ]
  },
  {
   "cell_type": "code",
   "execution_count": 22,
   "id": "d99ba672",
   "metadata": {},
   "outputs": [],
   "source": [
    "X_train1=X_train/255.\n",
    "X_test1=X_test/255."
   ]
  },
  {
   "cell_type": "code",
   "execution_count": 21,
   "id": "15d1326a",
   "metadata": {
    "scrolled": true
   },
   "outputs": [
    {
     "data": {
      "image/png": "[encoded data removed]",
      "text/plain": [
       "<Figure size 432x288 with 1 Axes>"
      ]
     },
     "metadata": {
      "needs_background": "light"
     },
     "output_type": "display_data"
    }
   ],
   "source": [
    "sns.countplot(x=y_train)\n",
    "plt.show()"
   ]
  },
  {
   "cell_type": "code",
   "execution_count": 33,
   "id": "07c28510",
   "metadata": {},
   "outputs": [],
   "source": [
    "from tensorflow.keras.utils import to_categorical\n",
    "\n",
    "y_train=to_categorical(y_train)\n",
    "y_test=to_categorical(y_test)"
   ]
  },
  {
   "cell_type": "code",
   "execution_count": 10,
   "id": "3f8fb72b",
   "metadata": {},
   "outputs": [],
   "source": [
    "from tensorflow.keras.models import Sequential\n",
    "from tensorflow.keras.layers import Dense,Flatten,Dropout\n",
    "\n"
   ]
  },
  {
   "cell_type": "code",
   "execution_count": 34,
   "id": "865c31c2",
   "metadata": {},
   "outputs": [],
   "source": [
    "model=Sequential()\n",
    "#model.add(Flatten())\n",
    "model.add(Dense(units=512,activation='relu'))#,input_dim=28*28))\n",
    "model.add(Dropout(0.2))\n",
    "model.add(Dense(units=128,activation='relu'))\n",
    "model.add(Dense(units=10,activation='softmax'))\n",
    "\n",
    "model.compile(metrics=['accuracy'],optimizer='adam',loss='categorical_crossentropy')"
   ]
  },
  {
   "cell_type": "code",
   "execution_count": 35,
   "id": "ba98b5b6",
   "metadata": {},
   "outputs": [
    {
     "name": "stdout",
     "output_type": "stream",
     "text": [
      "Epoch 1/10\n",
      "1875/1875 [==============================] - 11s 5ms/step - loss: 0.2153 - accuracy: 0.9337\n",
      "Epoch 2/10\n",
      "1875/1875 [==============================] - 10s 5ms/step - loss: 0.0990 - accuracy: 0.9689\n",
      "Epoch 3/10\n",
      "1875/1875 [==============================] - 10s 5ms/step - loss: 0.0730 - accuracy: 0.9768\n",
      "Epoch 4/10\n",
      "1875/1875 [==============================] - 11s 6ms/step - loss: 0.0596 - accuracy: 0.9810\n",
      "Epoch 5/10\n",
      "1875/1875 [==============================] - 11s 6ms/step - loss: 0.0517 - accuracy: 0.9840\n",
      "Epoch 6/10\n",
      "1875/1875 [==============================] - 10s 5ms/step - loss: 0.0431 - accuracy: 0.9857\n",
      "Epoch 7/10\n",
      "1875/1875 [==============================] - 11s 6ms/step - loss: 0.0383 - accuracy: 0.9879 0s - loss: 0.0\n",
      "Epoch 8/10\n",
      "1875/1875 [==============================] - 12s 6ms/step - loss: 0.0344 - accuracy: 0.9890\n",
      "Epoch 9/10\n",
      "1875/1875 [==============================] - 11s 6ms/step - loss: 0.0332 - accuracy: 0.9891\n",
      "Epoch 10/10\n",
      "1875/1875 [==============================] - 10s 5ms/step - loss: 0.0284 - accuracy: 0.9911\n"
     ]
    },
    {
     "data": {
      "text/plain": [
       "<keras.callbacks.History at 0x1e9b0f80d88>"
      ]
     },
     "execution_count": 35,
     "metadata": {},
     "output_type": "execute_result"
    }
   ],
   "source": [
    "model.fit(X_train1,y_train,batch_size=32,epochs=10)"
   ]
  },
  {
   "cell_type": "code",
   "execution_count": null,
   "id": "60b66d14",
   "metadata": {},
   "outputs": [],
   "source": []
  },
  {
   "cell_type": "code",
   "execution_count": 37,
   "id": "81e03342",
   "metadata": {},
   "outputs": [],
   "source": [
    "from tensorflow.keras import regularizers,optimizers"
   ]
  },
  {
   "cell_type": "code",
   "execution_count": 38,
   "id": "90e951ae",
   "metadata": {},
   "outputs": [],
   "source": [
    "model=Sequential()\n",
    "#model.add(Flatten())\n",
    "model.add(Dense(units=512,activation='relu'))#,input_dim=28*28))\n",
    "model.add(Dropout(0.2))\n",
    "model.add(Dense(units=128,activation='relu'))\n",
    "model.add(Dense(units=10,activation='softmax',kernel_regularizer=regularizers.l2(0.5)))\n",
    "\n",
    "model.compile(metrics=['accuracy'],optimizer='adam',loss='categorical_crossentropy')"
   ]
  },
  {
   "cell_type": "code",
   "execution_count": 40,
   "id": "73491b65",
   "metadata": {},
   "outputs": [
    {
     "name": "stdout",
     "output_type": "stream",
     "text": [
      "Epoch 1/10\n",
      "1875/1875 [==============================] - 10s 5ms/step - loss: 0.0642 - accuracy: 0.9892 - val_loss: 0.0882 - val_accuracy: 0.9825\n",
      "Epoch 2/10\n",
      "1875/1875 [==============================] - 10s 5ms/step - loss: 0.0589 - accuracy: 0.9903 - val_loss: 0.0910 - val_accuracy: 0.9795\n",
      "Epoch 3/10\n",
      "1875/1875 [==============================] - 11s 6ms/step - loss: 0.0552 - accuracy: 0.9909 - val_loss: 0.1085 - val_accuracy: 0.9808\n",
      "Epoch 4/10\n",
      "1875/1875 [==============================] - 10s 5ms/step - loss: 0.0513 - accuracy: 0.9923 - val_loss: 0.0936 - val_accuracy: 0.9815\n",
      "Epoch 5/10\n",
      "1875/1875 [==============================] - 10s 5ms/step - loss: 0.0503 - accuracy: 0.9922 - val_loss: 0.1006 - val_accuracy: 0.9811\n",
      "Epoch 6/10\n",
      "1875/1875 [==============================] - 10s 5ms/step - loss: 0.0457 - accuracy: 0.9931 - val_loss: 0.0851 - val_accuracy: 0.9831\n",
      "Epoch 7/10\n",
      "1875/1875 [==============================] - 10s 5ms/step - loss: 0.0454 - accuracy: 0.9931 - val_loss: 0.0809 - val_accuracy: 0.9850\n",
      "Epoch 8/10\n",
      "1875/1875 [==============================] - 10s 5ms/step - loss: 0.0430 - accuracy: 0.9938 - val_loss: 0.0939 - val_accuracy: 0.9839\n",
      "Epoch 9/10\n",
      "1875/1875 [==============================] - 10s 5ms/step - loss: 0.0408 - accuracy: 0.9946 - val_loss: 0.1038 - val_accuracy: 0.9780\n",
      "Epoch 10/10\n",
      "1875/1875 [==============================] - 10s 5ms/step - loss: 0.0385 - accuracy: 0.9947 - val_loss: 0.0827 - val_accuracy: 0.9831\n"
     ]
    },
    {
     "data": {
      "text/plain": [
       "<keras.callbacks.History at 0x1e9b10cbf48>"
      ]
     },
     "execution_count": 40,
     "metadata": {},
     "output_type": "execute_result"
    }
   ],
   "source": [
    "model.fit(X_train1,y_train,batch_size=32,epochs=10,validation_data=(X_test1,y_test))"
   ]
  },
  {
   "cell_type": "code",
   "execution_count": null,
   "id": "254136b5",
   "metadata": {},
   "outputs": [],
   "source": []
  }
 ],
 "metadata": {
  "kernelspec": {
   "display_name": "Python 3",
   "language": "python",
   "name": "python3"
  },
  "language_info": {
   "codemirror_mode": {
    "name": "ipython",
    "version": 3
   },
   "file_extension": ".py",
   "mimetype": "text/x-python",
   "name": "python",
   "nbconvert_exporter": "python",
   "pygments_lexer": "ipython3",
   "version": "3.7.10"
  }
 },
 "nbformat": 4,
 "nbformat_minor": 5
}
